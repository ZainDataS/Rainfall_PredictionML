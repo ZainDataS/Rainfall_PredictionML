{
  "nbformat": 4,
  "nbformat_minor": 0,
  "metadata": {
    "colab": {
      "provenance": [],
      "mount_file_id": "1TUOGs0Vzm2Qn_i-oG4cWvIOhfqZVPnwR",
      "authorship_tag": "ABX9TyO/Q4yx02gErcUb2Qz68KMK",
      "include_colab_link": true
    },
    "kernelspec": {
      "name": "python3",
      "display_name": "Python 3"
    },
    "language_info": {
      "name": "python"
    }
  },
  "cells": [
    {
      "cell_type": "markdown",
      "metadata": {
        "id": "view-in-github",
        "colab_type": "text"
      },
      "source": [
        "<a href=\"https://colab.research.google.com/github/ZainDataS/Rainfall_PredictionML/blob/main/Rainfall_Prediction_using_ML.ipynb\" target=\"_parent\"><img src=\"https://colab.research.google.com/assets/colab-badge.svg\" alt=\"Open In Colab\"/></a>"
      ]
    },
    {
      "cell_type": "markdown",
      "source": [
        "## **Rainfall Prediction using Linear Regression**"
      ],
      "metadata": {
        "id": "sBlI1gpKkLk6"
      }
    },
    {
      "cell_type": "code",
      "source": [
        "#importing libraries\n",
        "import pandas as pd\n",
        "import numpy as np"
      ],
      "metadata": {
        "id": "VZKNt4PGkUpe"
      },
      "execution_count": 3,
      "outputs": []
    },
    {
      "cell_type": "code",
      "source": [
        "data = pd.read_csv(\"/content/drive/MyDrive/austin_weather.csv\")\n",
        "data"
      ],
      "metadata": {
        "id": "iKxG7pwSkiww"
      },
      "execution_count": null,
      "outputs": []
    },
    {
      "cell_type": "code",
      "source": [],
      "metadata": {
        "id": "BUEQnORBlhkA"
      },
      "execution_count": null,
      "outputs": []
    }
  ]
}